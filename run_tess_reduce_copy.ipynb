{
 "cells": [
  {
   "cell_type": "code",
   "execution_count": 1,
   "metadata": {},
   "outputs": [
    {
     "name": "stderr",
     "output_type": "stream",
     "text": [
      "/Users/wendysun/Desktop/QPE_TESS_2025summer/stats/lib/python3.13/site-packages/lightkurve/prf/__init__.py:7: UserWarning: Warning: the tpfmodel submodule is not available without oktopus installed, which requires a current version of autograd. See #1452 for details.\n",
      "  warnings.warn(\n",
      "/Users/wendysun/Desktop/QPE_TESS_2025summer/stats/lib/python3.13/site-packages/tqdm/auto.py:21: TqdmWarning: IProgress not found. Please update jupyter and ipywidgets. See https://ipywidgets.readthedocs.io/en/stable/user_install.html\n",
      "  from .autonotebook import tqdm as notebook_tqdm\n"
     ]
    }
   ],
   "source": [
    "import os\n",
    "import numpy as np\n",
    "import pandas as pd\n",
    "from astropy.coordinates import Angle\n",
    "import astropy.units as u\n",
    "from tess_stars2px import tess_stars2px_function_entry\n",
    "import tessreduce as tr"
   ]
  },
  {
   "cell_type": "code",
   "execution_count": 2,
   "metadata": {},
   "outputs": [],
   "source": [
    "# Read data from TNS\n",
    "df = pd.read_csv('data/filtered_objects_galaxy_nucleus_with_redshift.csv')"
   ]
  },
  {
   "cell_type": "code",
   "execution_count": 3,
   "metadata": {},
   "outputs": [],
   "source": [
    "def get_coords(df):\n",
    "    # Convert RA & DEC to degrees\n",
    "    ra_deg = df['RA'].apply(lambda x: Angle(x, unit=u.hourangle).degree)\n",
    "    dec_deg = df['DEC'].apply(lambda x: Angle(x, unit=u.deg).degree)\n",
    "    coords_deg = list(zip(ra_deg, dec_deg))\n",
    "    return coords_deg"
   ]
  },
  {
   "cell_type": "code",
   "execution_count": 7,
   "metadata": {},
   "outputs": [],
   "source": [
    "def tess_reduce_set(coords_deg, name):\n",
    "    print(f\"Processing {name}\")\n",
    "    os.makedirs(f'data/plots/{name}', exist_ok=True)\n",
    "    os.makedirs(f'data/lightcurves/{name}', exist_ok=True)\n",
    "    \n",
    "    for ra, dec in coords_deg:\n",
    "        print(f\"\\nRA: {ra:.6f}, DEC: {dec:.6f}\")\n",
    "        # TESS point\n",
    "        ticid = 0 # code doesn't actually use ticid\n",
    "        print('outID outSec outCam outCcd outColPix outRowPix')\n",
    "        outID, outEclipLong, outEclipLat, outSec, outCam, outCcd, outColPix, outRowPix, scinfo = tess_stars2px_function_entry(ticid, ra, dec)\n",
    "        for i in range(len(outID)):\n",
    "            print('{0:d} {1:d} {2:d} {3:d} {4:f} {5:f}'.format(outID[i], outSec[i], outCam[i], outCcd[i], outColPix[i], outRowPix[i]))\n",
    "            # TESS reduce\n",
    "            if outSec[i] > 91:\n",
    "                continue\n",
    "            tess = tr.tessreduce(ra=ra, dec=dec, sector=outSec[i], savename=f'data/plots/{name}/ra{ra}_dec{dec}_sec{outSec[i]}', parallel=True)\n",
    "            if tess.lc is None:\n",
    "                tess = tr.tessreduce(ra=ra, dec=dec, sector=outSec[i], savename=f'data/plots/{name}/ra{ra}_dec{dec}_sec{outSec[i]}', parallel=False)\n",
    "            try:\n",
    "                tess_lc_tp = tess.lc.T\n",
    "                np.savez(f'data/lightcurves/{name}/ra{ra}_dec{dec}_sec{outSec[i]}.npz', lightcurve=tess_lc_tp)\n",
    "            except Exception as e:\n",
    "                continue"
   ]
  },
  {
   "cell_type": "code",
   "execution_count": null,
   "metadata": {},
   "outputs": [
    {
     "name": "stdout",
     "output_type": "stream",
     "text": [
      "Processing 2022aeyp\n",
      "\n",
      "RA: 32.427805, DEC: -10.183973\n",
      "outID outSec outCam outCcd outColPix outRowPix\n",
      "0 4 1 1 217.977103 1366.888456\n",
      "getting TPF from TESScut\n",
      "made reference\n"
     ]
    },
    {
     "name": "stderr",
     "output_type": "stream",
     "text": [
      "/Users/wendysun/Desktop/QPE_TESS_2025summer/stats/lib/python3.13/site-packages/lightkurve/prf/__init__.py:7: UserWarning: Warning: the tpfmodel submodule is not available without oktopus installed, which requires a current version of autograd. See #1452 for details.\n",
      "  warnings.warn(\n"
     ]
    },
    {
     "name": "stdout",
     "output_type": "stream",
     "text": [
      "made source mask\n",
      "calculating background\n"
     ]
    },
    {
     "name": "stderr",
     "output_type": "stream",
     "text": [
      "/Users/wendysun/Desktop/QPE_TESS_2025summer/stats/lib/python3.13/site-packages/lightkurve/prf/__init__.py:7: UserWarning: Warning: the tpfmodel submodule is not available without oktopus installed, which requires a current version of autograd. See #1452 for details.\n",
      "  warnings.warn(\n",
      "/Users/wendysun/Desktop/QPE_TESS_2025summer/stats/lib/python3.13/site-packages/lightkurve/prf/__init__.py:7: UserWarning: Warning: the tpfmodel submodule is not available without oktopus installed, which requires a current version of autograd. See #1452 for details.\n",
      "  warnings.warn(\n",
      "/Users/wendysun/Desktop/QPE_TESS_2025summer/stats/lib/python3.13/site-packages/lightkurve/prf/__init__.py:7: UserWarning: Warning: the tpfmodel submodule is not available without oktopus installed, which requires a current version of autograd. See #1452 for details.\n",
      "  warnings.warn(\n",
      "/Users/wendysun/Desktop/QPE_TESS_2025summer/stats/lib/python3.13/site-packages/lightkurve/prf/__init__.py:7: UserWarning: Warning: the tpfmodel submodule is not available without oktopus installed, which requires a current version of autograd. See #1452 for details.\n",
      "  warnings.warn(\n",
      "/Users/wendysun/Desktop/QPE_TESS_2025summer/stats/lib/python3.13/site-packages/lightkurve/prf/__init__.py:7: UserWarning: Warning: the tpfmodel submodule is not available without oktopus installed, which requires a current version of autograd. See #1452 for details.\n",
      "  warnings.warn(\n",
      "/Users/wendysun/Desktop/QPE_TESS_2025summer/stats/lib/python3.13/site-packages/lightkurve/prf/__init__.py:7: UserWarning: Warning: the tpfmodel submodule is not available without oktopus installed, which requires a current version of autograd. See #1452 for details.\n",
      "  warnings.warn(\n",
      "/Users/wendysun/Desktop/QPE_TESS_2025summer/stats/lib/python3.13/site-packages/lightkurve/prf/__init__.py:7: UserWarning: Warning: the tpfmodel submodule is not available without oktopus installed, which requires a current version of autograd. See #1452 for details.\n",
      "  warnings.warn(\n",
      "/Users/wendysun/Desktop/QPE_TESS_2025summer/stats/lib/python3.13/site-packages/lightkurve/prf/__init__.py:7: UserWarning: Warning: the tpfmodel submodule is not available without oktopus installed, which requires a current version of autograd. See #1452 for details.\n",
      "  warnings.warn(\n",
      "/Users/wendysun/Desktop/QPE_TESS_2025summer/stats/lib/python3.13/site-packages/lightkurve/prf/__init__.py:7: UserWarning: Warning: the tpfmodel submodule is not available without oktopus installed, which requires a current version of autograd. See #1452 for details.\n",
      "  warnings.warn(\n",
      "/Users/wendysun/Desktop/QPE_TESS_2025summer/stats/lib/python3.13/site-packages/lightkurve/prf/__init__.py:7: UserWarning: Warning: the tpfmodel submodule is not available without oktopus installed, which requires a current version of autograd. See #1452 for details.\n",
      "  warnings.warn(\n"
     ]
    }
   ],
   "source": [
    "for i, row in df.iloc[8:].iterrows():\n",
    "    coords_deg = [(row[\"ra\"], row[\"dec\"])]\n",
    "    tess_reduce_set(coords_deg, row[\"name\"])"
   ]
  },
  {
   "cell_type": "code",
   "execution_count": null,
   "metadata": {},
   "outputs": [],
   "source": []
  }
 ],
 "metadata": {
  "kernelspec": {
   "display_name": "stats",
   "language": "python",
   "name": "python3"
  },
  "language_info": {
   "codemirror_mode": {
    "name": "ipython",
    "version": 3
   },
   "file_extension": ".py",
   "mimetype": "text/x-python",
   "name": "python",
   "nbconvert_exporter": "python",
   "pygments_lexer": "ipython3",
   "version": "3.13.1"
  }
 },
 "nbformat": 4,
 "nbformat_minor": 2
}
